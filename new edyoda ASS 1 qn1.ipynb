{
 "cells": [
  {
   "cell_type": "code",
   "execution_count": 7,
   "id": "ee0ac4be",
   "metadata": {},
   "outputs": [
    {
     "name": "stdout",
     "output_type": "stream",
     "text": [
      "fibonacci series between 0 and 50 in list format:  [1, 1, 2, 3, 5, 8, 13, 21, 34]\n",
      "fibonacci series between 0 and 50 in normal format:  1 1 2 3 5 8 13 21 34 "
     ]
    }
   ],
   "source": [
    "n=10\n",
    "fb_list=[0,1]\n",
    "sum = 0\n",
    "    \n",
    "for i in range(2,n):\n",
    "    sum = fb_list[i-2] + fb_list[i-1]\n",
    "    fb_list.append(sum)\n",
    "    \n",
    "fb_list.pop(0)  \n",
    "print(\"fibonacci series between 0 and 50 in list format: \",fb_list)\n",
    "print(\"fibonacci series between 0 and 50 in normal format: \", end= \" \")\n",
    "for x in fb_list:\n",
    "     print(x,end=\" \")\n",
    "    \n",
    "\n"
   ]
  },
  {
   "cell_type": "code",
   "execution_count": null,
   "id": "aa579472",
   "metadata": {},
   "outputs": [],
   "source": []
  }
 ],
 "metadata": {
  "kernelspec": {
   "display_name": "Python 3 (ipykernel)",
   "language": "python",
   "name": "python3"
  },
  "language_info": {
   "codemirror_mode": {
    "name": "ipython",
    "version": 3
   },
   "file_extension": ".py",
   "mimetype": "text/x-python",
   "name": "python",
   "nbconvert_exporter": "python",
   "pygments_lexer": "ipython3",
   "version": "3.9.7"
  }
 },
 "nbformat": 4,
 "nbformat_minor": 5
}
